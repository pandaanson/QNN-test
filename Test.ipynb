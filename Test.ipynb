{
 "cells": [
  {
   "cell_type": "code",
   "execution_count": 1,
   "metadata": {},
   "outputs": [
    {
     "ename": "",
     "evalue": "",
     "output_type": "error",
     "traceback": [
      "\u001b[1;31mThe Kernel crashed while executing code in the current cell or a previous cell. \n",
      "\u001b[1;31mPlease review the code in the cell(s) to identify a possible cause of the failure. \n",
      "\u001b[1;31mClick <a href='https://aka.ms/vscodeJupyterKernelCrash'>here</a> for more info. \n",
      "\u001b[1;31mView Jupyter <a href='command:jupyter.viewOutput'>log</a> for further details."
     ]
    }
   ],
   "source": [
    "import numpy as np\n",
    "import pandas as pd\n",
    "import tensorflow as tf\n",
    "from tensorflow.keras.layers import Dense, Input\n",
    "from tensorflow.keras.models import Model\n",
    "\n",
    "# Create synthetic time series data\n",
    "np.random.seed(42)\n",
    "time = np.arange(0, 1000, 1)\n",
    "demand = 0.05 * time + np.sin(time * 0.1) + np.random.normal(0, 0.5, size=len(time))\n",
    "\n",
    "# Convert to a supervised learning problem\n",
    "X = np.array([demand[i-20:i] for i in range(20, len(demand))])\n",
    "Y = np.array([demand[i] for i in range(20, len(demand))])\n",
    "\n",
    "# Split into train and test sets\n",
    "split_time = 800\n",
    "X_train, X_test = X[:split_time], X[split_time:]\n",
    "Y_train, Y_test = Y[:split_time], Y[split_time:]\n",
    "\n",
    "# Quantile loss function\n",
    "def quantile_loss(tau, y_true, y_pred):\n",
    "    err = y_true - y_pred\n",
    "    return tf.reduce_mean(tf.maximum(tau * err, (tau - 1) * err), axis=-1)\n",
    "\n",
    "# Building the model to predict three quantiles\n",
    "input_layer = Input(shape=(20,))\n",
    "hidden_layer = Dense(128, activation='relu')(input_layer)\n",
    "hidden_layer_2 = Dense(128, activation='relu')(hidden_layer)\n",
    "output_layer = Dense(3, activation='linear')(hidden_layer_2)\n",
    "\n",
    "model = Model(inputs=input_layer, outputs=output_layer)\n",
    "\n",
    "# Compile the model\n",
    "model.compile(optimizer='adam', loss=lambda y_true, y_pred: quantile_loss(0.5, y_true[:, 0], y_pred[:, 0]) +\n",
    "                                                           quantile_loss(0.25, y_true[:, 1], y_pred[:, 1]) +\n",
    "                                                           quantile_loss(0.75, y_true[:, 2], y_pred[:, 2]))\n",
    "\n",
    "# Adjust Y for training (include three quantiles)\n",
    "Y_train_q = np.tile(Y_train, (3, 1)).T  # Repeat Y_train 3 times and transpose\n",
    "Y_test_q = np.tile(Y_test, (3, 1)).T  # Repeat Y_test 3 times and transpose\n",
    "\n",
    "# Train the model\n",
    "model.fit(X_train, Y_train_q, epochs=100, batch_size=16, verbose=0)\n",
    "\n",
    "# Predict using the trained model (example)\n",
    "predictions = model.predict(X_test[:10])\n",
    "print(f\"Predictions for the first 10 test samples:\\n{predictions}\")\n"
   ]
  }
 ],
 "metadata": {
  "kernelspec": {
   "display_name": "base",
   "language": "python",
   "name": "python3"
  },
  "language_info": {
   "codemirror_mode": {
    "name": "ipython",
    "version": 3
   },
   "file_extension": ".py",
   "mimetype": "text/x-python",
   "name": "python",
   "nbconvert_exporter": "python",
   "pygments_lexer": "ipython3",
   "version": "3.9.18"
  }
 },
 "nbformat": 4,
 "nbformat_minor": 2
}
